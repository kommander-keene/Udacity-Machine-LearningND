{
 "cells": [
  {
   "cell_type": "markdown",
   "metadata": {},
   "source": [
    "# Machine Learning Engineer Nanodegree\n",
    "## Unsupervised Learning\n",
    "## Project: Creating Customer Segments"
   ]
  },
  {
   "cell_type": "markdown",
   "metadata": {},
   "source": [
    "Welcome to the third project of the Machine Learning Engineer Nanodegree! In this notebook, some template code has already been provided for you, and it will be your job to implement the additional functionality necessary to successfully complete this project. Sections that begin with **'Implementation'** in the header indicate that the following block of code will require additional functionality which you must provide. Instructions will be provided for each section and the specifics of the implementation are marked in the code block with a `'TODO'` statement. Please be sure to read the instructions carefully!\n",
    "\n",
    "In addition to implementing code, there will be questions that you must answer which relate to the project and your implementation. Each section where you will answer a question is preceded by a **'Question X'** header. Carefully read each question and provide thorough answers in the following text boxes that begin with **'Answer:'**. Your project submission will be evaluated based on your answers to each of the questions and the implementation you provide.  \n",
    "\n",
    ">**Note:** Code and Markdown cells can be executed using the **Shift + Enter** keyboard shortcut. In addition, Markdown cells can be edited by typically double-clicking the cell to enter edit mode."
   ]
  },
  {
   "cell_type": "markdown",
   "metadata": {},
   "source": [
    "## Getting Started\n",
    "\n",
    "In this project, you will analyze a dataset containing data on various customers' annual spending amounts (reported in *monetary units*) of diverse product categories for internal structure. One goal of this project is to best describe the variation in the different types of customers that a wholesale distributor interacts with. Doing so would equip the distributor with insight into how to best structure their delivery service to meet the needs of each customer.\n",
    "\n",
    "The dataset for this project can be found on the [UCI Machine Learning Repository](https://archive.ics.uci.edu/ml/datasets/Wholesale+customers). For the purposes of this project, the features `'Channel'` and `'Region'` will be excluded in the analysis — with focus instead on the six product categories recorded for customers.\n",
    "\n",
    "Run the code block below to load the wholesale customers dataset, along with a few of the necessary Python libraries required for this project. You will know the dataset loaded successfully if the size of the dataset is reported."
   ]
  },
  {
   "cell_type": "code",
   "execution_count": 1,
   "metadata": {},
   "outputs": [
    {
     "name": "stdout",
     "output_type": "stream",
     "text": [
      "Wholesale customers dataset has 440 samples with 6 features each.\n"
     ]
    }
   ],
   "source": [
    "# Import libraries necessary for this project\n",
    "import numpy as np\n",
    "import pandas as pd\n",
    "from IPython.display import display # Allows the use of display() for DataFrames\n",
    "\n",
    "# Import supplementary visualizations code visuals.py\n",
    "import visuals as vs\n",
    "\n",
    "# Pretty display for notebooks\n",
    "%matplotlib inline\n",
    "\n",
    "# Load the wholesale customers dataset\n",
    "try:\n",
    "    data = pd.read_csv(\"customers.csv\")\n",
    "    data.drop(['Region', 'Channel'], axis = 1, inplace = True)\n",
    "    print(\"Wholesale customers dataset has {} samples with {} features each.\".format(*data.shape))\n",
    "except:\n",
    "    print(\"Dataset could not be loaded. Is the dataset missing?\")"
   ]
  },
  {
   "cell_type": "markdown",
   "metadata": {},
   "source": [
    "## Data Exploration\n",
    "In this section, you will begin exploring the data through visualizations and code to understand how each feature is related to the others. You will observe a statistical description of the dataset, consider the relevance of each feature, and select a few sample data points from the dataset which you will track through the course of this project.\n",
    "\n",
    "Run the code block below to observe a statistical description of the dataset. Note that the dataset is composed of six important product categories: **'Fresh'**, **'Milk'**, **'Grocery'**, **'Frozen'**, **'Detergents_Paper'**, and **'Delicatessen'**. Consider what each category represents in terms of products you could purchase."
   ]
  },
  {
   "cell_type": "code",
   "execution_count": 2,
   "metadata": {},
   "outputs": [
    {
     "data": {
      "text/html": [
       "<div>\n",
       "<style scoped>\n",
       "    .dataframe tbody tr th:only-of-type {\n",
       "        vertical-align: middle;\n",
       "    }\n",
       "\n",
       "    .dataframe tbody tr th {\n",
       "        vertical-align: top;\n",
       "    }\n",
       "\n",
       "    .dataframe thead th {\n",
       "        text-align: right;\n",
       "    }\n",
       "</style>\n",
       "<table border=\"1\" class=\"dataframe\">\n",
       "  <thead>\n",
       "    <tr style=\"text-align: right;\">\n",
       "      <th></th>\n",
       "      <th>Fresh</th>\n",
       "      <th>Milk</th>\n",
       "      <th>Grocery</th>\n",
       "      <th>Frozen</th>\n",
       "      <th>Detergents_Paper</th>\n",
       "      <th>Delicatessen</th>\n",
       "    </tr>\n",
       "  </thead>\n",
       "  <tbody>\n",
       "    <tr>\n",
       "      <th>count</th>\n",
       "      <td>440.000000</td>\n",
       "      <td>440.000000</td>\n",
       "      <td>440.000000</td>\n",
       "      <td>440.000000</td>\n",
       "      <td>440.000000</td>\n",
       "      <td>440.000000</td>\n",
       "    </tr>\n",
       "    <tr>\n",
       "      <th>mean</th>\n",
       "      <td>12000.297727</td>\n",
       "      <td>5796.265909</td>\n",
       "      <td>7951.277273</td>\n",
       "      <td>3071.931818</td>\n",
       "      <td>2881.493182</td>\n",
       "      <td>1524.870455</td>\n",
       "    </tr>\n",
       "    <tr>\n",
       "      <th>std</th>\n",
       "      <td>12647.328865</td>\n",
       "      <td>7380.377175</td>\n",
       "      <td>9503.162829</td>\n",
       "      <td>4854.673333</td>\n",
       "      <td>4767.854448</td>\n",
       "      <td>2820.105937</td>\n",
       "    </tr>\n",
       "    <tr>\n",
       "      <th>min</th>\n",
       "      <td>3.000000</td>\n",
       "      <td>55.000000</td>\n",
       "      <td>3.000000</td>\n",
       "      <td>25.000000</td>\n",
       "      <td>3.000000</td>\n",
       "      <td>3.000000</td>\n",
       "    </tr>\n",
       "    <tr>\n",
       "      <th>25%</th>\n",
       "      <td>3127.750000</td>\n",
       "      <td>1533.000000</td>\n",
       "      <td>2153.000000</td>\n",
       "      <td>742.250000</td>\n",
       "      <td>256.750000</td>\n",
       "      <td>408.250000</td>\n",
       "    </tr>\n",
       "    <tr>\n",
       "      <th>50%</th>\n",
       "      <td>8504.000000</td>\n",
       "      <td>3627.000000</td>\n",
       "      <td>4755.500000</td>\n",
       "      <td>1526.000000</td>\n",
       "      <td>816.500000</td>\n",
       "      <td>965.500000</td>\n",
       "    </tr>\n",
       "    <tr>\n",
       "      <th>75%</th>\n",
       "      <td>16933.750000</td>\n",
       "      <td>7190.250000</td>\n",
       "      <td>10655.750000</td>\n",
       "      <td>3554.250000</td>\n",
       "      <td>3922.000000</td>\n",
       "      <td>1820.250000</td>\n",
       "    </tr>\n",
       "    <tr>\n",
       "      <th>max</th>\n",
       "      <td>112151.000000</td>\n",
       "      <td>73498.000000</td>\n",
       "      <td>92780.000000</td>\n",
       "      <td>60869.000000</td>\n",
       "      <td>40827.000000</td>\n",
       "      <td>47943.000000</td>\n",
       "    </tr>\n",
       "  </tbody>\n",
       "</table>\n",
       "</div>"
      ],
      "text/plain": [
       "               Fresh          Milk       Grocery        Frozen  \\\n",
       "count     440.000000    440.000000    440.000000    440.000000   \n",
       "mean    12000.297727   5796.265909   7951.277273   3071.931818   \n",
       "std     12647.328865   7380.377175   9503.162829   4854.673333   \n",
       "min         3.000000     55.000000      3.000000     25.000000   \n",
       "25%      3127.750000   1533.000000   2153.000000    742.250000   \n",
       "50%      8504.000000   3627.000000   4755.500000   1526.000000   \n",
       "75%     16933.750000   7190.250000  10655.750000   3554.250000   \n",
       "max    112151.000000  73498.000000  92780.000000  60869.000000   \n",
       "\n",
       "       Detergents_Paper  Delicatessen  \n",
       "count        440.000000    440.000000  \n",
       "mean        2881.493182   1524.870455  \n",
       "std         4767.854448   2820.105937  \n",
       "min            3.000000      3.000000  \n",
       "25%          256.750000    408.250000  \n",
       "50%          816.500000    965.500000  \n",
       "75%         3922.000000   1820.250000  \n",
       "max        40827.000000  47943.000000  "
      ]
     },
     "metadata": {},
     "output_type": "display_data"
    }
   ],
   "source": [
    "# Display a description of the dataset\n",
    "display(data.describe())"
   ]
  },
  {
   "cell_type": "markdown",
   "metadata": {},
   "source": [
    "### Implementation: Selecting Samples\n",
    "To get a better understanding of the customers and how their data will transform through the analysis, it would be best to select a few sample data points and explore them in more detail. In the code block below, add **three** indices of your choice to the `indices` list which will represent the customers to track. It is suggested to try different sets of samples until you obtain customers that vary significantly from one another."
   ]
  },
  {
   "cell_type": "code",
   "execution_count": 3,
   "metadata": {},
   "outputs": [
    {
     "name": "stdout",
     "output_type": "stream",
     "text": [
      "Chosen samples of wholesale customers dataset:\n"
     ]
    },
    {
     "data": {
      "text/html": [
       "<div>\n",
       "<style scoped>\n",
       "    .dataframe tbody tr th:only-of-type {\n",
       "        vertical-align: middle;\n",
       "    }\n",
       "\n",
       "    .dataframe tbody tr th {\n",
       "        vertical-align: top;\n",
       "    }\n",
       "\n",
       "    .dataframe thead th {\n",
       "        text-align: right;\n",
       "    }\n",
       "</style>\n",
       "<table border=\"1\" class=\"dataframe\">\n",
       "  <thead>\n",
       "    <tr style=\"text-align: right;\">\n",
       "      <th></th>\n",
       "      <th>Fresh</th>\n",
       "      <th>Milk</th>\n",
       "      <th>Grocery</th>\n",
       "      <th>Frozen</th>\n",
       "      <th>Detergents_Paper</th>\n",
       "      <th>Delicatessen</th>\n",
       "    </tr>\n",
       "  </thead>\n",
       "  <tbody>\n",
       "    <tr>\n",
       "      <th>0</th>\n",
       "      <td>22096</td>\n",
       "      <td>3575</td>\n",
       "      <td>7041</td>\n",
       "      <td>11422</td>\n",
       "      <td>343</td>\n",
       "      <td>2564</td>\n",
       "    </tr>\n",
       "    <tr>\n",
       "      <th>1</th>\n",
       "      <td>6353</td>\n",
       "      <td>8808</td>\n",
       "      <td>7684</td>\n",
       "      <td>2405</td>\n",
       "      <td>3516</td>\n",
       "      <td>7844</td>\n",
       "    </tr>\n",
       "    <tr>\n",
       "      <th>2</th>\n",
       "      <td>8352</td>\n",
       "      <td>2820</td>\n",
       "      <td>1293</td>\n",
       "      <td>779</td>\n",
       "      <td>656</td>\n",
       "      <td>144</td>\n",
       "    </tr>\n",
       "  </tbody>\n",
       "</table>\n",
       "</div>"
      ],
      "text/plain": [
       "   Fresh  Milk  Grocery  Frozen  Detergents_Paper  Delicatessen\n",
       "0  22096  3575     7041   11422               343          2564\n",
       "1   6353  8808     7684    2405              3516          7844\n",
       "2   8352  2820     1293     779               656           144"
      ]
     },
     "metadata": {},
     "output_type": "display_data"
    },
    {
     "data": {
      "text/plain": [
       "<matplotlib.axes._subplots.AxesSubplot at 0x115d54978>"
      ]
     },
     "execution_count": 3,
     "metadata": {},
     "output_type": "execute_result"
    },
    {
     "data": {
      "image/png": "[encoded data removed]",
      "text/plain": [
       "<Figure size 432x288 with 2 Axes>"
      ]
     },
     "metadata": {
      "needs_background": "light"
     },
     "output_type": "display_data"
    }
   ],
   "source": [
    "# TODO: Select three indices of your choice you wish to sample from the dataset\n",
    "indices = [240, 2, 69]\n",
    "\n",
    "# Create a DataFrame of the chosen samples\n",
    "samples = pd.DataFrame(data.loc[indices], columns = data.keys()).reset_index(drop = True)\n",
    "print(\"Chosen samples of wholesale customers dataset:\")\n",
    "display(samples)\n",
    "\n",
    "import seaborn as sns\n",
    "\n",
    "percentiles_data = data.rank(pct=True)\n",
    "percentiles_samples = percentiles_data.iloc[indices]\n",
    "sns.heatmap(percentiles_samples, annot=True)"
   ]
  },
  {
   "cell_type": "markdown",
   "metadata": {},
   "source": [
    "### Question 1\n",
    "Consider the total purchase cost of each product category and the statistical description of the dataset above for your sample customers.  \n",
    "\n",
    "* What kind of establishment (customer) could each of the three samples you've chosen represent?\n",
    "\n",
    "**Hint:** Examples of establishments include places like markets, cafes, delis, wholesale retailers, among many others. Avoid using names for establishments, such as saying *\"McDonalds\"* when describing a sample customer as a restaurant. You can use the mean values for reference to compare your samples with. The mean values are as follows:\n",
    "\n",
    "* Fresh: 12000.2977\n",
    "* Milk: 5796.2\n",
    "* Grocery: 7951.3\n",
    "* Detergents_paper: 2881.4\n",
    "* Delicatessen: 1524.8\n",
    "\n",
    "Knowing this, how do your samples compare? Does that help in driving your insight into what kind of establishments they might be? \n"
   ]
  },
  {
   "cell_type": "markdown",
   "metadata": {},
   "source": [
    "**Answer:**\n",
    "\n",
    "[0] Butcher. This customer is purchasing large amounts of Fresh and Delicatessen at a number that is well above the median. This suggests that they might be stocking up in fresh foods in order sell them. However, the heatmap also suggests that this person is purchasing Frozen goods at a rate well above the median, maybe cold meets etc. etc...\n",
    "\n",
    "[1] Wholesale Retailer. Is buying a lot of delicatessen, detergents-paper, milk and groceries. However, they also purchase a variety of features that are way above the mean in three of these categories. This sample purchases things and is in the upper percentile for a many of the features. Due to the wide variety of items purchased, this may suggest that this sample is a wholesale retailer.\n",
    "\n",
    "[2] Small Café. This sample seems to buy things all below the mean number of things purchased; however, they seem to purchase a lot of Fresh and Milk. Similarly, in the heat map, this sample has the highest values for Fresh and Milk. This seems to suggest that they are a small café as they do not buy a lot of resources, yet they specialize in a type of resource purchased."
   ]
  },
  {
   "cell_type": "markdown",
   "metadata": {},
   "source": [
    "### Implementation: Feature Relevance\n",
    "One interesting thought to consider is if one (or more) of the six product categories is actually relevant for understanding customer purchasing. That is to say, is it possible to determine whether customers purchasing some amount of one category of products will necessarily purchase some proportional amount of another category of products? We can make this determination quite easily by training a supervised regression learner on a subset of the data with one feature removed, and then score how well that model can predict the removed feature.\n",
    "\n",
    "In the code block below, you will need to implement the following:\n",
    " - Assign `new_data` a copy of the data by removing a feature of your choice using the `DataFrame.drop` function.\n",
    " - Use `sklearn.cross_validation.train_test_split` to split the dataset into training and testing sets.\n",
    "   - Use the removed feature as your target label. Set a `test_size` of `0.25` and set a `random_state`.\n",
    " - Import a decision tree regressor, set a `random_state`, and fit the learner to the training data.\n",
    " - Report the prediction score of the testing set using the regressor's `score` function."
   ]
  },
  {
   "cell_type": "code",
   "execution_count": 4,
   "metadata": {},
   "outputs": [
    {
     "name": "stdout",
     "output_type": "stream",
     "text": [
      "0.27166698062685013\n"
     ]
    }
   ],
   "source": [
    "from sklearn.model_selection import train_test_split\n",
    "from sklearn.tree import DecisionTreeRegressor\n",
    "# TODO: Make a copy of the DataFrame, using the 'drop' function to drop the given feature\n",
    "new_data = pd.DataFrame(data.drop(['Detergents_Paper'], 1));\n",
    "X = new_data\n",
    "y = data['Detergents_Paper']\n",
    "# TODO: Split the data into training and testing sets(0.25) using the given feature as the target\n",
    "# Set a random state.\n",
    "X_train, X_test, y_train, y_test = train_test_split(X, y, test_size = 0.25, random_state = 42)\n",
    "\n",
    "# TODO: Create a decision tree regressor and fit it to the training set\n",
    "regressor = DecisionTreeRegressor(random_state = 42)\n",
    "regressor.fit (X_train, y_train)\n",
    "# TODO: Report the score of the prediction using the testing set\n",
    "score = regressor.score(X_test, y_test)\n",
    "print(score)"
   ]
  },
  {
   "cell_type": "markdown",
   "metadata": {},
   "source": [
    "### Question 2\n",
    "\n",
    "* Which feature did you attempt to predict? \n",
    "* What was the reported prediction score? \n",
    "* Is this feature necessary for identifying customers' spending habits?\n",
    "\n",
    "**Hint:** The coefficient of determination, `R^2`, is scored between 0 and 1, with 1 being a perfect fit. A negative `R^2` implies the model fails to fit the data. If you get a low score for a particular feature, that lends us to beleive that that feature point is hard to predict using the other features, thereby making it an important feature to consider when considering relevance."
   ]
  },
  {
   "cell_type": "markdown",
   "metadata": {},
   "source": [
    "**Answer:**\n",
    "\n",
    "Which feature did you attempt to predict?\n",
    "    Annual Frozen Purchasing Power\n",
    "    \n",
    "What was the reported prediction score? \n",
    "    -0.2101...\n",
    "    \n",
    "Is this feature necessary for identifying customers' spending habits?\n",
    "\n",
    "    This feature seems to be quite important as predicting it is very hard and the R^2 value indicates that the model completely fails to predict values for this."
   ]
  },
  {
   "cell_type": "markdown",
   "metadata": {},
   "source": [
    "### Visualize Feature Distributions\n",
    "To get a better understanding of the dataset, we can construct a scatter matrix of each of the six product features present in the data. If you found that the feature you attempted to predict above is relevant for identifying a specific customer, then the scatter matrix below may not show any correlation between that feature and the others. Conversely, if you believe that feature is not relevant for identifying a specific customer, the scatter matrix might show a correlation between that feature and another feature in the data. Run the code block below to produce a scatter matrix."
   ]
  },
  {
   "cell_type": "code",
   "execution_count": 5,
   "metadata": {},
   "outputs": [
    {
     "name": "stderr",
     "output_type": "stream",
     "text": [
      "/Library/Frameworks/Python.framework/Versions/3.6/lib/python3.6/site-packages/ipykernel_launcher.py:2: FutureWarning: pandas.scatter_matrix is deprecated, use pandas.plotting.scatter_matrix instead\n",
      "  \n"
     ]
    },
    {
     "data": {
      "image/png": "[encoded data removed]",
      "text/plain": [
       "<Figure size 1008x576 with 36 Axes>"
      ]
     },
     "metadata": {
      "needs_background": "light"
     },
     "output_type": "display_data"
    }
   ],
   "source": [
    "# Produce a scatter matrix for each pair of features in the data\n",
    "pd.scatter_matrix(data, alpha = 0.3, figsize = (14,8), diagonal = 'kde');\n",
    "data.corr();"
   ]
  },
  {
   "cell_type": "markdown",
   "metadata": {},
   "source": [
    "### Question 3\n",
    "* Using the scatter matrix as a reference, discuss the distribution of the dataset, specifically talk about the normality, outliers, large number of data points near 0 among others. If you need to sepearate out some of the plots individually to further accentuate your point, you may do so as well.\n",
    "* Are there any pairs of features which exhibit some degree of correlation? \n",
    "* Does this confirm or deny your suspicions about the relevance of the feature you attempted to predict? \n",
    "* How is the data for those features distributed?\n",
    "\n",
    "**Hint:** Is the data normally distributed? Where do most of the data points lie? You can use [corr()](https://pandas.pydata.org/pandas-docs/stable/generated/pandas.DataFrame.corr.html) to get the feature correlations and then visualize them using a [heatmap](http://seaborn.pydata.org/generated/seaborn.heatmap.html)(the data that would be fed into the heatmap would be the correlation values, for eg: `data.corr()`) to gain further insight."
   ]
  },
  {
   "cell_type": "markdown",
   "metadata": {},
   "source": [
    "**Answer:**\n",
    "\n",
    "* Using the scatter matrix as a reference, discuss the distribution of the dataset, specifically talk about the normality, outliers, large number of data points near 0 among others. If you need to sepearate out some of the plots individually to further accentuate your point, you may do so as well.\n",
    "\n",
    "    You can clearly see that features that have more diagonally oriented scatter points seem to have sort of linear correlation, while the features that form clouds when graphed together clearly do not correlate together very well. \n",
    "    All of the data; however, seems to be clustered around the origin. This data is not evenly spread and the fact that these points are closer to the origin suggests that the customers purchasing things are mostly individuals and small businesses. The mean of this model will probably be affected by the outliers and thus would big significantlyu greater than it should be while the median would be stuck somewhere inside the origin cluster.\n",
    "    \n",
    "* Are there any pairs of features which exhibit some degree of correlation?\n",
    "Milk–Groceries, Groceries-Detergents Paper and Milk Detergents Paper. You can tell due to the data's linear shape.\n",
    "* Does this confirm or deny your suspicions about the relevance of the feature you attempted to predict?\n",
    "This means that detergents paper is probably not that relevant as Milk and Groceries can probably be used to predict it.\n",
    "* How is the data for those features distributed?\n",
    "The points seem to cluster at the origin, but the data is overall skewed to the right due to the outliers."
   ]
  },
  {
   "cell_type": "markdown",
   "metadata": {},
   "source": [
    "## Data Preprocessing\n",
    "In this section, you will preprocess the data to create a better representation of customers by performing a scaling on the data and detecting (and optionally removing) outliers. Preprocessing data is often times a critical step in assuring that results you obtain from your analysis are significant and meaningful."
   ]
  },
  {
   "cell_type": "markdown",
   "metadata": {},
   "source": [
    "### Implementation: Feature Scaling\n",
    "If data is not normally distributed, especially if the mean and median vary significantly (indicating a large skew), it is most [often appropriate](http://econbrowser.com/archives/2014/02/use-of-logarithms-in-economics) to apply a non-linear scaling — particularly for financial data. One way to achieve this scaling is by using a [Box-Cox test](http://scipy.github.io/devdocs/generated/scipy.stats.boxcox.html), which calculates the best power transformation of the data that reduces skewness. A simpler approach which can work in most cases would be applying the natural logarithm.\n",
    "\n",
    "In the code block below, you will need to implement the following:\n",
    " - Assign a copy of the data to `log_data` after applying logarithmic scaling. Use the `np.log` function for this.\n",
    " - Assign a copy of the sample data to `log_samples` after applying logarithmic scaling. Again, use `np.log`."
   ]
  },
  {
   "cell_type": "code",
   "execution_count": 1,
   "metadata": {},
   "outputs": [
    {
     "ename": "NameError",
     "evalue": "name 'np' is not defined",
     "output_type": "error",
     "traceback": [
      "\u001b[0;31m---------------------------------------------------------------------------\u001b[0m",
      "\u001b[0;31mNameError\u001b[0m                                 Traceback (most recent call last)",
      "\u001b[0;32m<ipython-input-1-294cc675908d>\u001b[0m in \u001b[0;36m<module>\u001b[0;34m\u001b[0m\n\u001b[1;32m      1\u001b[0m \u001b[0;31m# TODO: Scale the data using the natural logarithm\u001b[0m\u001b[0;34m\u001b[0m\u001b[0;34m\u001b[0m\u001b[0;34m\u001b[0m\u001b[0m\n\u001b[0;32m----> 2\u001b[0;31m \u001b[0mlog_data\u001b[0m \u001b[0;34m=\u001b[0m \u001b[0mnp\u001b[0m\u001b[0;34m.\u001b[0m\u001b[0mlog\u001b[0m\u001b[0;34m(\u001b[0m\u001b[0mdata\u001b[0m\u001b[0;34m)\u001b[0m\u001b[0;34m\u001b[0m\u001b[0;34m\u001b[0m\u001b[0m\n\u001b[0m\u001b[1;32m      3\u001b[0m \u001b[0;34m\u001b[0m\u001b[0m\n\u001b[1;32m      4\u001b[0m \u001b[0;31m# TODO: Scale the sample data using the natural logarithm\u001b[0m\u001b[0;34m\u001b[0m\u001b[0;34m\u001b[0m\u001b[0;34m\u001b[0m\u001b[0m\n\u001b[1;32m      5\u001b[0m \u001b[0mlog_samples\u001b[0m \u001b[0;34m=\u001b[0m \u001b[0mnp\u001b[0m\u001b[0;34m.\u001b[0m\u001b[0mlog\u001b[0m\u001b[0;34m(\u001b[0m\u001b[0msamples\u001b[0m\u001b[0;34m)\u001b[0m\u001b[0;34m\u001b[0m\u001b[0;34m\u001b[0m\u001b[0m\n",
      "\u001b[0;31mNameError\u001b[0m: name 'np' is not defined"
     ]
    }
   ],
   "source": [
    "# TODO: Scale the data using the natural logarithm\n",
    "log_data = np.log(data)\n",
    "\n",
    "# TODO: Scale the sample data using the natural logarithm\n",
    "log_samples = np.log(samples)\n",
    "\n",
    "# Produce a scatter matrix for each pair of newly-transformed features\n",
    "pd.scatter_matrix(log_data, alpha = 0.3, figsize = (14,8), diagonal = 'kde');"
   ]
  },
  {
   "cell_type": "markdown",
   "metadata": {},
   "source": [
    "### Observation\n",
    "After applying a natural logarithm scaling to the data, the distribution of each feature should appear much more normal. For any pairs of features you may have identified earlier as being correlated, observe here whether that correlation is still present (and whether it is now stronger or weaker than before).\n",
    "\n",
    "Run the code below to see how the sample data has changed after having the natural logarithm applied to it."
   ]
  },
  {
   "cell_type": "code",
   "execution_count": 7,
   "metadata": {},
   "outputs": [
    {
     "data": {
      "text/html": [
       "<div>\n",
       "<style scoped>\n",
       "    .dataframe tbody tr th:only-of-type {\n",
       "        vertical-align: middle;\n",
       "    }\n",
       "\n",
       "    .dataframe tbody tr th {\n",
       "        vertical-align: top;\n",
       "    }\n",
       "\n",
       "    .dataframe thead th {\n",
       "        text-align: right;\n",
       "    }\n",
       "</style>\n",
       "<table border=\"1\" class=\"dataframe\">\n",
       "  <thead>\n",
       "    <tr style=\"text-align: right;\">\n",
       "      <th></th>\n",
       "      <th>Fresh</th>\n",
       "      <th>Milk</th>\n",
       "      <th>Grocery</th>\n",
       "      <th>Frozen</th>\n",
       "      <th>Detergents_Paper</th>\n",
       "      <th>Delicatessen</th>\n",
       "    </tr>\n",
       "  </thead>\n",
       "  <tbody>\n",
       "    <tr>\n",
       "      <th>0</th>\n",
       "      <td>10.003152</td>\n",
       "      <td>8.181720</td>\n",
       "      <td>8.859505</td>\n",
       "      <td>9.343297</td>\n",
       "      <td>5.837730</td>\n",
       "      <td>7.849324</td>\n",
       "    </tr>\n",
       "    <tr>\n",
       "      <th>1</th>\n",
       "      <td>8.756682</td>\n",
       "      <td>9.083416</td>\n",
       "      <td>8.946896</td>\n",
       "      <td>7.785305</td>\n",
       "      <td>8.165079</td>\n",
       "      <td>8.967504</td>\n",
       "    </tr>\n",
       "    <tr>\n",
       "      <th>2</th>\n",
       "      <td>9.030256</td>\n",
       "      <td>7.944492</td>\n",
       "      <td>7.164720</td>\n",
       "      <td>6.658011</td>\n",
       "      <td>6.486161</td>\n",
       "      <td>4.969813</td>\n",
       "    </tr>\n",
       "  </tbody>\n",
       "</table>\n",
       "</div>"
      ],
      "text/plain": [
       "       Fresh      Milk   Grocery    Frozen  Detergents_Paper  Delicatessen\n",
       "0  10.003152  8.181720  8.859505  9.343297          5.837730      7.849324\n",
       "1   8.756682  9.083416  8.946896  7.785305          8.165079      8.967504\n",
       "2   9.030256  7.944492  7.164720  6.658011          6.486161      4.969813"
      ]
     },
     "metadata": {},
     "output_type": "display_data"
    }
   ],
   "source": [
    "# Display the log-transformed sample data\n",
    "display(log_samples)"
   ]
  },
  {
   "cell_type": "markdown",
   "metadata": {},
   "source": [
    "### Implementation: Outlier Detection\n",
    "Detecting outliers in the data is extremely important in the data preprocessing step of any analysis. The presence of outliers can often skew results which take into consideration these data points. There are many \"rules of thumb\" for what constitutes an outlier in a dataset. Here, we will use [Tukey's Method for identfying outliers](http://datapigtechnologies.com/blog/index.php/highlighting-outliers-in-your-data-with-the-tukey-method/): An *outlier step* is calculated as 1.5 times the interquartile range (IQR). A data point with a feature that is beyond an outlier step outside of the IQR for that feature is considered abnormal.\n",
    "\n",
    "In the code block below, you will need to implement the following:\n",
    " - Assign the value of the 25th percentile for the given feature to `Q1`. Use `np.percentile` for this.\n",
    " - Assign the value of the 75th percentile for the given feature to `Q3`. Again, use `np.percentile`.\n",
    " - Assign the calculation of an outlier step for the given feature to `step`.\n",
    " - Optionally remove data points from the dataset by adding indices to the `outliers` list.\n",
    "\n",
    "**NOTE:** If you choose to remove any outliers, ensure that the sample data does not contain any of these points!  \n",
    "Once you have performed this implementation, the dataset will be stored in the variable `good_data`."
   ]
  },
  {
   "cell_type": "code",
   "execution_count": 9,
   "metadata": {},
   "outputs": [
    {
     "name": "stdout",
     "output_type": "stream",
     "text": [
      "Data points considered outliers for the feature 'Fresh':\n"
     ]
    },
    {
     "data": {
      "text/html": [
       "<div>\n",
       "<style scoped>\n",
       "    .dataframe tbody tr th:only-of-type {\n",
       "        vertical-align: middle;\n",
       "    }\n",
       "\n",
       "    .dataframe tbody tr th {\n",
       "        vertical-align: top;\n",
       "    }\n",
       "\n",
       "    .dataframe thead th {\n",
       "        text-align: right;\n",
       "    }\n",
       "</style>\n",
       "<table border=\"1\" class=\"dataframe\">\n",
       "  <thead>\n",
       "    <tr style=\"text-align: right;\">\n",
       "      <th></th>\n",
       "      <th>Fresh</th>\n",
       "      <th>Milk</th>\n",
       "      <th>Grocery</th>\n",
       "      <th>Frozen</th>\n",
       "      <th>Detergents_Paper</th>\n",
       "      <th>Delicatessen</th>\n",
       "    </tr>\n",
       "  </thead>\n",
       "  <tbody>\n",
       "    <tr>\n",
       "      <th>65</th>\n",
       "      <td>4.442651</td>\n",
       "      <td>9.950323</td>\n",
       "      <td>10.732651</td>\n",
       "      <td>3.583519</td>\n",
       "      <td>10.095388</td>\n",
       "      <td>7.260523</td>\n",
       "    </tr>\n",
       "    <tr>\n",
       "      <th>66</th>\n",
       "      <td>2.197225</td>\n",
       "      <td>7.335634</td>\n",
       "      <td>8.911530</td>\n",
       "      <td>5.164786</td>\n",
       "      <td>8.151333</td>\n",
       "      <td>3.295837</td>\n",
       "    </tr>\n",
       "    <tr>\n",
       "      <th>81</th>\n",
       "      <td>5.389072</td>\n",
       "      <td>9.163249</td>\n",
       "      <td>9.575192</td>\n",
       "      <td>5.645447</td>\n",
       "      <td>8.964184</td>\n",
       "      <td>5.049856</td>\n",
       "    </tr>\n",
       "    <tr>\n",
       "      <th>95</th>\n",
       "      <td>1.098612</td>\n",
       "      <td>7.979339</td>\n",
       "      <td>8.740657</td>\n",
       "      <td>6.086775</td>\n",
       "      <td>5.407172</td>\n",
       "      <td>6.563856</td>\n",
       "    </tr>\n",
       "    <tr>\n",
       "      <th>96</th>\n",
       "      <td>3.135494</td>\n",
       "      <td>7.869402</td>\n",
       "      <td>9.001839</td>\n",
       "      <td>4.976734</td>\n",
       "      <td>8.262043</td>\n",
       "      <td>5.379897</td>\n",
       "    </tr>\n",
       "    <tr>\n",
       "      <th>128</th>\n",
       "      <td>4.941642</td>\n",
       "      <td>9.087834</td>\n",
       "      <td>8.248791</td>\n",
       "      <td>4.955827</td>\n",
       "      <td>6.967909</td>\n",
       "      <td>1.098612</td>\n",
       "    </tr>\n",
       "    <tr>\n",
       "      <th>171</th>\n",
       "      <td>5.298317</td>\n",
       "      <td>10.160530</td>\n",
       "      <td>9.894245</td>\n",
       "      <td>6.478510</td>\n",
       "      <td>9.079434</td>\n",
       "      <td>8.740337</td>\n",
       "    </tr>\n",
       "    <tr>\n",
       "      <th>193</th>\n",
       "      <td>5.192957</td>\n",
       "      <td>8.156223</td>\n",
       "      <td>9.917982</td>\n",
       "      <td>6.865891</td>\n",
       "      <td>8.633731</td>\n",
       "      <td>6.501290</td>\n",
       "    </tr>\n",
       "    <tr>\n",
       "      <th>218</th>\n",
       "      <td>2.890372</td>\n",
       "      <td>8.923191</td>\n",
       "      <td>9.629380</td>\n",
       "      <td>7.158514</td>\n",
       "      <td>8.475746</td>\n",
       "      <td>8.759669</td>\n",
       "    </tr>\n",
       "    <tr>\n",
       "      <th>304</th>\n",
       "      <td>5.081404</td>\n",
       "      <td>8.917311</td>\n",
       "      <td>10.117510</td>\n",
       "      <td>6.424869</td>\n",
       "      <td>9.374413</td>\n",
       "      <td>7.787382</td>\n",
       "    </tr>\n",
       "    <tr>\n",
       "      <th>305</th>\n",
       "      <td>5.493061</td>\n",
       "      <td>9.468001</td>\n",
       "      <td>9.088399</td>\n",
       "      <td>6.683361</td>\n",
       "      <td>8.271037</td>\n",
       "      <td>5.351858</td>\n",
       "    </tr>\n",
       "    <tr>\n",
       "      <th>338</th>\n",
       "      <td>1.098612</td>\n",
       "      <td>5.808142</td>\n",
       "      <td>8.856661</td>\n",
       "      <td>9.655090</td>\n",
       "      <td>2.708050</td>\n",
       "      <td>6.309918</td>\n",
       "    </tr>\n",
       "    <tr>\n",
       "      <th>353</th>\n",
       "      <td>4.762174</td>\n",
       "      <td>8.742574</td>\n",
       "      <td>9.961898</td>\n",
       "      <td>5.429346</td>\n",
       "      <td>9.069007</td>\n",
       "      <td>7.013016</td>\n",
       "    </tr>\n",
       "    <tr>\n",
       "      <th>355</th>\n",
       "      <td>5.247024</td>\n",
       "      <td>6.588926</td>\n",
       "      <td>7.606885</td>\n",
       "      <td>5.501258</td>\n",
       "      <td>5.214936</td>\n",
       "      <td>4.844187</td>\n",
       "    </tr>\n",
       "    <tr>\n",
       "      <th>357</th>\n",
       "      <td>3.610918</td>\n",
       "      <td>7.150701</td>\n",
       "      <td>10.011086</td>\n",
       "      <td>4.919981</td>\n",
       "      <td>8.816853</td>\n",
       "      <td>4.700480</td>\n",
       "    </tr>\n",
       "    <tr>\n",
       "      <th>412</th>\n",
       "      <td>4.574711</td>\n",
       "      <td>8.190077</td>\n",
       "      <td>9.425452</td>\n",
       "      <td>4.584967</td>\n",
       "      <td>7.996317</td>\n",
       "      <td>4.127134</td>\n",
       "    </tr>\n",
       "  </tbody>\n",
       "</table>\n",
       "</div>"
      ],
      "text/plain": [
       "        Fresh       Milk    Grocery    Frozen  Detergents_Paper  Delicatessen\n",
       "65   4.442651   9.950323  10.732651  3.583519         10.095388      7.260523\n",
       "66   2.197225   7.335634   8.911530  5.164786          8.151333      3.295837\n",
       "81   5.389072   9.163249   9.575192  5.645447          8.964184      5.049856\n",
       "95   1.098612   7.979339   8.740657  6.086775          5.407172      6.563856\n",
       "96   3.135494   7.869402   9.001839  4.976734          8.262043      5.379897\n",
       "128  4.941642   9.087834   8.248791  4.955827          6.967909      1.098612\n",
       "171  5.298317  10.160530   9.894245  6.478510          9.079434      8.740337\n",
       "193  5.192957   8.156223   9.917982  6.865891          8.633731      6.501290\n",
       "218  2.890372   8.923191   9.629380  7.158514          8.475746      8.759669\n",
       "304  5.081404   8.917311  10.117510  6.424869          9.374413      7.787382\n",
       "305  5.493061   9.468001   9.088399  6.683361          8.271037      5.351858\n",
       "338  1.098612   5.808142   8.856661  9.655090          2.708050      6.309918\n",
       "353  4.762174   8.742574   9.961898  5.429346          9.069007      7.013016\n",
       "355  5.247024   6.588926   7.606885  5.501258          5.214936      4.844187\n",
       "357  3.610918   7.150701  10.011086  4.919981          8.816853      4.700480\n",
       "412  4.574711   8.190077   9.425452  4.584967          7.996317      4.127134"
      ]
     },
     "metadata": {},
     "output_type": "display_data"
    },
    {
     "name": "stdout",
     "output_type": "stream",
     "text": [
      "Data points considered outliers for the feature 'Milk':\n"
     ]
    },
    {
     "data": {
      "text/html": [
       "<div>\n",
       "<style scoped>\n",
       "    .dataframe tbody tr th:only-of-type {\n",
       "        vertical-align: middle;\n",
       "    }\n",
       "\n",
       "    .dataframe tbody tr th {\n",
       "        vertical-align: top;\n",
       "    }\n",
       "\n",
       "    .dataframe thead th {\n",
       "        text-align: right;\n",
       "    }\n",
       "</style>\n",
       "<table border=\"1\" class=\"dataframe\">\n",
       "  <thead>\n",
       "    <tr style=\"text-align: right;\">\n",
       "      <th></th>\n",
       "      <th>Fresh</th>\n",
       "      <th>Milk</th>\n",
       "      <th>Grocery</th>\n",
       "      <th>Frozen</th>\n",
       "      <th>Detergents_Paper</th>\n",
       "      <th>Delicatessen</th>\n",
       "    </tr>\n",
       "  </thead>\n",
       "  <tbody>\n",
       "    <tr>\n",
       "      <th>86</th>\n",
       "      <td>10.039983</td>\n",
       "      <td>11.205013</td>\n",
       "      <td>10.377047</td>\n",
       "      <td>6.894670</td>\n",
       "      <td>9.906981</td>\n",
       "      <td>6.805723</td>\n",
       "    </tr>\n",
       "    <tr>\n",
       "      <th>98</th>\n",
       "      <td>6.220590</td>\n",
       "      <td>4.718499</td>\n",
       "      <td>6.656727</td>\n",
       "      <td>6.796824</td>\n",
       "      <td>4.025352</td>\n",
       "      <td>4.882802</td>\n",
       "    </tr>\n",
       "    <tr>\n",
       "      <th>154</th>\n",
       "      <td>6.432940</td>\n",
       "      <td>4.007333</td>\n",
       "      <td>4.919981</td>\n",
       "      <td>4.317488</td>\n",
       "      <td>1.945910</td>\n",
       "      <td>2.079442</td>\n",
       "    </tr>\n",
       "    <tr>\n",
       "      <th>356</th>\n",
       "      <td>10.029503</td>\n",
       "      <td>4.897840</td>\n",
       "      <td>5.384495</td>\n",
       "      <td>8.057377</td>\n",
       "      <td>2.197225</td>\n",
       "      <td>6.306275</td>\n",
       "    </tr>\n",
       "  </tbody>\n",
       "</table>\n",
       "</div>"
      ],
      "text/plain": [
       "         Fresh       Milk    Grocery    Frozen  Detergents_Paper  Delicatessen\n",
       "86   10.039983  11.205013  10.377047  6.894670          9.906981      6.805723\n",
       "98    6.220590   4.718499   6.656727  6.796824          4.025352      4.882802\n",
       "154   6.432940   4.007333   4.919981  4.317488          1.945910      2.079442\n",
       "356  10.029503   4.897840   5.384495  8.057377          2.197225      6.306275"
      ]
     },
     "metadata": {},
     "output_type": "display_data"
    },
    {
     "name": "stdout",
     "output_type": "stream",
     "text": [
      "Data points considered outliers for the feature 'Grocery':\n"
     ]
    },
    {
     "data": {
      "text/html": [
       "<div>\n",
       "<style scoped>\n",
       "    .dataframe tbody tr th:only-of-type {\n",
       "        vertical-align: middle;\n",
       "    }\n",
       "\n",
       "    .dataframe tbody tr th {\n",
       "        vertical-align: top;\n",
       "    }\n",
       "\n",
       "    .dataframe thead th {\n",
       "        text-align: right;\n",
       "    }\n",
       "</style>\n",
       "<table border=\"1\" class=\"dataframe\">\n",
       "  <thead>\n",
       "    <tr style=\"text-align: right;\">\n",
       "      <th></th>\n",
       "      <th>Fresh</th>\n",
       "      <th>Milk</th>\n",
       "      <th>Grocery</th>\n",
       "      <th>Frozen</th>\n",
       "      <th>Detergents_Paper</th>\n",
       "      <th>Delicatessen</th>\n",
       "    </tr>\n",
       "  </thead>\n",
       "  <tbody>\n",
       "    <tr>\n",
       "      <th>75</th>\n",
       "      <td>9.923192</td>\n",
       "      <td>7.036148</td>\n",
       "      <td>1.098612</td>\n",
       "      <td>8.390949</td>\n",
       "      <td>1.098612</td>\n",
       "      <td>6.882437</td>\n",
       "    </tr>\n",
       "    <tr>\n",
       "      <th>154</th>\n",
       "      <td>6.432940</td>\n",
       "      <td>4.007333</td>\n",
       "      <td>4.919981</td>\n",
       "      <td>4.317488</td>\n",
       "      <td>1.945910</td>\n",
       "      <td>2.079442</td>\n",
       "    </tr>\n",
       "  </tbody>\n",
       "</table>\n",
       "</div>"
      ],
      "text/plain": [
       "        Fresh      Milk   Grocery    Frozen  Detergents_Paper  Delicatessen\n",
       "75   9.923192  7.036148  1.098612  8.390949          1.098612      6.882437\n",
       "154  6.432940  4.007333  4.919981  4.317488          1.945910      2.079442"
      ]
     },
     "metadata": {},
     "output_type": "display_data"
    },
    {
     "name": "stdout",
     "output_type": "stream",
     "text": [
      "Data points considered outliers for the feature 'Frozen':\n"
     ]
    },
    {
     "data": {
      "text/html": [
       "<div>\n",
       "<style scoped>\n",
       "    .dataframe tbody tr th:only-of-type {\n",
       "        vertical-align: middle;\n",
       "    }\n",
       "\n",
       "    .dataframe tbody tr th {\n",
       "        vertical-align: top;\n",
       "    }\n",
       "\n",
       "    .dataframe thead th {\n",
       "        text-align: right;\n",
       "    }\n",
       "</style>\n",
       "<table border=\"1\" class=\"dataframe\">\n",
       "  <thead>\n",
       "    <tr style=\"text-align: right;\">\n",
       "      <th></th>\n",
       "      <th>Fresh</th>\n",
       "      <th>Milk</th>\n",
       "      <th>Grocery</th>\n",
       "      <th>Frozen</th>\n",
       "      <th>Detergents_Paper</th>\n",
       "      <th>Delicatessen</th>\n",
       "    </tr>\n",
       "  </thead>\n",
       "  <tbody>\n",
       "    <tr>\n",
       "      <th>38</th>\n",
       "      <td>8.431853</td>\n",
       "      <td>9.663261</td>\n",
       "      <td>9.723703</td>\n",
       "      <td>3.496508</td>\n",
       "      <td>8.847360</td>\n",
       "      <td>6.070738</td>\n",
       "    </tr>\n",
       "    <tr>\n",
       "      <th>57</th>\n",
       "      <td>8.597297</td>\n",
       "      <td>9.203618</td>\n",
       "      <td>9.257892</td>\n",
       "      <td>3.637586</td>\n",
       "      <td>8.932213</td>\n",
       "      <td>7.156177</td>\n",
       "    </tr>\n",
       "    <tr>\n",
       "      <th>65</th>\n",
       "      <td>4.442651</td>\n",
       "      <td>9.950323</td>\n",
       "      <td>10.732651</td>\n",
       "      <td>3.583519</td>\n",
       "      <td>10.095388</td>\n",
       "      <td>7.260523</td>\n",
       "    </tr>\n",
       "    <tr>\n",
       "      <th>145</th>\n",
       "      <td>10.000569</td>\n",
       "      <td>9.034080</td>\n",
       "      <td>10.457143</td>\n",
       "      <td>3.737670</td>\n",
       "      <td>9.440738</td>\n",
       "      <td>8.396155</td>\n",
       "    </tr>\n",
       "    <tr>\n",
       "      <th>175</th>\n",
       "      <td>7.759187</td>\n",
       "      <td>8.967632</td>\n",
       "      <td>9.382106</td>\n",
       "      <td>3.951244</td>\n",
       "      <td>8.341887</td>\n",
       "      <td>7.436617</td>\n",
       "    </tr>\n",
       "    <tr>\n",
       "      <th>264</th>\n",
       "      <td>6.978214</td>\n",
       "      <td>9.177714</td>\n",
       "      <td>9.645041</td>\n",
       "      <td>4.110874</td>\n",
       "      <td>8.696176</td>\n",
       "      <td>7.142827</td>\n",
       "    </tr>\n",
       "    <tr>\n",
       "      <th>325</th>\n",
       "      <td>10.395650</td>\n",
       "      <td>9.728181</td>\n",
       "      <td>9.519735</td>\n",
       "      <td>11.016479</td>\n",
       "      <td>7.148346</td>\n",
       "      <td>8.632128</td>\n",
       "    </tr>\n",
       "    <tr>\n",
       "      <th>420</th>\n",
       "      <td>8.402007</td>\n",
       "      <td>8.569026</td>\n",
       "      <td>9.490015</td>\n",
       "      <td>3.218876</td>\n",
       "      <td>8.827321</td>\n",
       "      <td>7.239215</td>\n",
       "    </tr>\n",
       "    <tr>\n",
       "      <th>429</th>\n",
       "      <td>9.060331</td>\n",
       "      <td>7.467371</td>\n",
       "      <td>8.183118</td>\n",
       "      <td>3.850148</td>\n",
       "      <td>4.430817</td>\n",
       "      <td>7.824446</td>\n",
       "    </tr>\n",
       "    <tr>\n",
       "      <th>439</th>\n",
       "      <td>7.932721</td>\n",
       "      <td>7.437206</td>\n",
       "      <td>7.828038</td>\n",
       "      <td>4.174387</td>\n",
       "      <td>6.167516</td>\n",
       "      <td>3.951244</td>\n",
       "    </tr>\n",
       "  </tbody>\n",
       "</table>\n",
       "</div>"
      ],
      "text/plain": [
       "         Fresh      Milk    Grocery     Frozen  Detergents_Paper  Delicatessen\n",
       "38    8.431853  9.663261   9.723703   3.496508          8.847360      6.070738\n",
       "57    8.597297  9.203618   9.257892   3.637586          8.932213      7.156177\n",
       "65    4.442651  9.950323  10.732651   3.583519         10.095388      7.260523\n",
       "145  10.000569  9.034080  10.457143   3.737670          9.440738      8.396155\n",
       "175   7.759187  8.967632   9.382106   3.951244          8.341887      7.436617\n",
       "264   6.978214  9.177714   9.645041   4.110874          8.696176      7.142827\n",
       "325  10.395650  9.728181   9.519735  11.016479          7.148346      8.632128\n",
       "420   8.402007  8.569026   9.490015   3.218876          8.827321      7.239215\n",
       "429   9.060331  7.467371   8.183118   3.850148          4.430817      7.824446\n",
       "439   7.932721  7.437206   7.828038   4.174387          6.167516      3.951244"
      ]
     },
     "metadata": {},
     "output_type": "display_data"
    },
    {
     "name": "stdout",
     "output_type": "stream",
     "text": [
      "Data points considered outliers for the feature 'Detergents_Paper':\n"
     ]
    },
    {
     "data": {
      "text/html": [
       "<div>\n",
       "<style scoped>\n",
       "    .dataframe tbody tr th:only-of-type {\n",
       "        vertical-align: middle;\n",
       "    }\n",
       "\n",
       "    .dataframe tbody tr th {\n",
       "        vertical-align: top;\n",
       "    }\n",
       "\n",
       "    .dataframe thead th {\n",
       "        text-align: right;\n",
       "    }\n",
       "</style>\n",
       "<table border=\"1\" class=\"dataframe\">\n",
       "  <thead>\n",
       "    <tr style=\"text-align: right;\">\n",
       "      <th></th>\n",
       "      <th>Fresh</th>\n",
       "      <th>Milk</th>\n",
       "      <th>Grocery</th>\n",
       "      <th>Frozen</th>\n",
       "      <th>Detergents_Paper</th>\n",
       "      <th>Delicatessen</th>\n",
       "    </tr>\n",
       "  </thead>\n",
       "  <tbody>\n",
       "    <tr>\n",
       "      <th>75</th>\n",
       "      <td>9.923192</td>\n",
       "      <td>7.036148</td>\n",
       "      <td>1.098612</td>\n",
       "      <td>8.390949</td>\n",
       "      <td>1.098612</td>\n",
       "      <td>6.882437</td>\n",
       "    </tr>\n",
       "    <tr>\n",
       "      <th>161</th>\n",
       "      <td>9.428190</td>\n",
       "      <td>6.291569</td>\n",
       "      <td>5.645447</td>\n",
       "      <td>6.995766</td>\n",
       "      <td>1.098612</td>\n",
       "      <td>7.711101</td>\n",
       "    </tr>\n",
       "  </tbody>\n",
       "</table>\n",
       "</div>"
      ],
      "text/plain": [
       "        Fresh      Milk   Grocery    Frozen  Detergents_Paper  Delicatessen\n",
       "75   9.923192  7.036148  1.098612  8.390949          1.098612      6.882437\n",
       "161  9.428190  6.291569  5.645447  6.995766          1.098612      7.711101"
      ]
     },
     "metadata": {},
     "output_type": "display_data"
    },
    {
     "name": "stdout",
     "output_type": "stream",
     "text": [
      "Data points considered outliers for the feature 'Delicatessen':\n"
     ]
    },
    {
     "data": {
      "text/html": [
       "<div>\n",
       "<style scoped>\n",
       "    .dataframe tbody tr th:only-of-type {\n",
       "        vertical-align: middle;\n",
       "    }\n",
       "\n",
       "    .dataframe tbody tr th {\n",
       "        vertical-align: top;\n",
       "    }\n",
       "\n",
       "    .dataframe thead th {\n",
       "        text-align: right;\n",
       "    }\n",
       "</style>\n",
       "<table border=\"1\" class=\"dataframe\">\n",
       "  <thead>\n",
       "    <tr style=\"text-align: right;\">\n",
       "      <th></th>\n",
       "      <th>Fresh</th>\n",
       "      <th>Milk</th>\n",
       "      <th>Grocery</th>\n",
       "      <th>Frozen</th>\n",
       "      <th>Detergents_Paper</th>\n",
       "      <th>Delicatessen</th>\n",
       "    </tr>\n",
       "  </thead>\n",
       "  <tbody>\n",
       "    <tr>\n",
       "      <th>66</th>\n",
       "      <td>2.197225</td>\n",
       "      <td>7.335634</td>\n",
       "      <td>8.911530</td>\n",
       "      <td>5.164786</td>\n",
       "      <td>8.151333</td>\n",
       "      <td>3.295837</td>\n",
       "    </tr>\n",
       "    <tr>\n",
       "      <th>109</th>\n",
       "      <td>7.248504</td>\n",
       "      <td>9.724899</td>\n",
       "      <td>10.274568</td>\n",
       "      <td>6.511745</td>\n",
       "      <td>6.728629</td>\n",
       "      <td>1.098612</td>\n",
       "    </tr>\n",
       "    <tr>\n",
       "      <th>128</th>\n",
       "      <td>4.941642</td>\n",
       "      <td>9.087834</td>\n",
       "      <td>8.248791</td>\n",
       "      <td>4.955827</td>\n",
       "      <td>6.967909</td>\n",
       "      <td>1.098612</td>\n",
       "    </tr>\n",
       "    <tr>\n",
       "      <th>137</th>\n",
       "      <td>8.034955</td>\n",
       "      <td>8.997147</td>\n",
       "      <td>9.021840</td>\n",
       "      <td>6.493754</td>\n",
       "      <td>6.580639</td>\n",
       "      <td>3.583519</td>\n",
       "    </tr>\n",
       "    <tr>\n",
       "      <th>142</th>\n",
       "      <td>10.519646</td>\n",
       "      <td>8.875147</td>\n",
       "      <td>9.018332</td>\n",
       "      <td>8.004700</td>\n",
       "      <td>2.995732</td>\n",
       "      <td>1.098612</td>\n",
       "    </tr>\n",
       "    <tr>\n",
       "      <th>154</th>\n",
       "      <td>6.432940</td>\n",
       "      <td>4.007333</td>\n",
       "      <td>4.919981</td>\n",
       "      <td>4.317488</td>\n",
       "      <td>1.945910</td>\n",
       "      <td>2.079442</td>\n",
       "    </tr>\n",
       "    <tr>\n",
       "      <th>183</th>\n",
       "      <td>10.514529</td>\n",
       "      <td>10.690808</td>\n",
       "      <td>9.911952</td>\n",
       "      <td>10.505999</td>\n",
       "      <td>5.476464</td>\n",
       "      <td>10.777768</td>\n",
       "    </tr>\n",
       "    <tr>\n",
       "      <th>184</th>\n",
       "      <td>5.789960</td>\n",
       "      <td>6.822197</td>\n",
       "      <td>8.457443</td>\n",
       "      <td>4.304065</td>\n",
       "      <td>5.811141</td>\n",
       "      <td>2.397895</td>\n",
       "    </tr>\n",
       "    <tr>\n",
       "      <th>187</th>\n",
       "      <td>7.798933</td>\n",
       "      <td>8.987447</td>\n",
       "      <td>9.192075</td>\n",
       "      <td>8.743372</td>\n",
       "      <td>8.148735</td>\n",
       "      <td>1.098612</td>\n",
       "    </tr>\n",
       "    <tr>\n",
       "      <th>203</th>\n",
       "      <td>6.368187</td>\n",
       "      <td>6.529419</td>\n",
       "      <td>7.703459</td>\n",
       "      <td>6.150603</td>\n",
       "      <td>6.860664</td>\n",
       "      <td>2.890372</td>\n",
       "    </tr>\n",
       "    <tr>\n",
       "      <th>233</th>\n",
       "      <td>6.871091</td>\n",
       "      <td>8.513988</td>\n",
       "      <td>8.106515</td>\n",
       "      <td>6.842683</td>\n",
       "      <td>6.013715</td>\n",
       "      <td>1.945910</td>\n",
       "    </tr>\n",
       "    <tr>\n",
       "      <th>285</th>\n",
       "      <td>10.602965</td>\n",
       "      <td>6.461468</td>\n",
       "      <td>8.188689</td>\n",
       "      <td>6.948897</td>\n",
       "      <td>6.077642</td>\n",
       "      <td>2.890372</td>\n",
       "    </tr>\n",
       "    <tr>\n",
       "      <th>289</th>\n",
       "      <td>10.663966</td>\n",
       "      <td>5.655992</td>\n",
       "      <td>6.154858</td>\n",
       "      <td>7.235619</td>\n",
       "      <td>3.465736</td>\n",
       "      <td>3.091042</td>\n",
       "    </tr>\n",
       "    <tr>\n",
       "      <th>343</th>\n",
       "      <td>7.431892</td>\n",
       "      <td>8.848509</td>\n",
       "      <td>10.177932</td>\n",
       "      <td>7.283448</td>\n",
       "      <td>9.646593</td>\n",
       "      <td>3.610918</td>\n",
       "    </tr>\n",
       "  </tbody>\n",
       "</table>\n",
       "</div>"
      ],
      "text/plain": [
       "         Fresh       Milk    Grocery     Frozen  Detergents_Paper  \\\n",
       "66    2.197225   7.335634   8.911530   5.164786          8.151333   \n",
       "109   7.248504   9.724899  10.274568   6.511745          6.728629   \n",
       "128   4.941642   9.087834   8.248791   4.955827          6.967909   \n",
       "137   8.034955   8.997147   9.021840   6.493754          6.580639   \n",
       "142  10.519646   8.875147   9.018332   8.004700          2.995732   \n",
       "154   6.432940   4.007333   4.919981   4.317488          1.945910   \n",
       "183  10.514529  10.690808   9.911952  10.505999          5.476464   \n",
       "184   5.789960   6.822197   8.457443   4.304065          5.811141   \n",
       "187   7.798933   8.987447   9.192075   8.743372          8.148735   \n",
       "203   6.368187   6.529419   7.703459   6.150603          6.860664   \n",
       "233   6.871091   8.513988   8.106515   6.842683          6.013715   \n",
       "285  10.602965   6.461468   8.188689   6.948897          6.077642   \n",
       "289  10.663966   5.655992   6.154858   7.235619          3.465736   \n",
       "343   7.431892   8.848509  10.177932   7.283448          9.646593   \n",
       "\n",
       "     Delicatessen  \n",
       "66       3.295837  \n",
       "109      1.098612  \n",
       "128      1.098612  \n",
       "137      3.583519  \n",
       "142      1.098612  \n",
       "154      2.079442  \n",
       "183     10.777768  \n",
       "184      2.397895  \n",
       "187      1.098612  \n",
       "203      2.890372  \n",
       "233      1.945910  \n",
       "285      2.890372  \n",
       "289      3.091042  \n",
       "343      3.610918  "
      ]
     },
     "metadata": {},
     "output_type": "display_data"
    }
   ],
   "source": [
    "from collections import Counter\n",
    "# For each feature find the data points with extreme high or low values\n",
    "for feature in log_data.keys():\n",
    "    \n",
    "    # TODO: Calculate Q1 (25th percentile of the data) for the given feature\n",
    "    Q1 = np.percentile(log_data[feature], 25)\n",
    "    \n",
    "    # TODO: Calculate Q3 (75th percentile of the data) for the given feature\n",
    "    Q3 = np.percentile(log_data[feature], 75)\n",
    "    \n",
    "    # TODO: Use the interquartile range to calculate an outlier step (1.5 times the interquartile range)\n",
    "    step = (Q3 - Q1) * 1.5\n",
    "    \n",
    "    # Display the outliers\n",
    "    print(\"Data points considered outliers for the feature '{}':\".format(feature))\n",
    "    display(log_data[~((log_data[feature] >= Q1 - step) & (log_data[feature] <= Q3 + step))])\n",
    "    \n",
    "# OPTIONAL: Select the indices for data points you wish to remove\n",
    "outliers  = [65, 66, 75, 128, 154]\n",
    "\n",
    "\n",
    "# Remove the outliers, if any were specified\n",
    "good_data = log_data.drop(log_data.index[outliers]).reset_index(drop = True)"
   ]
  },
  {
   "cell_type": "markdown",
   "metadata": {},
   "source": [
    "### Question 4\n",
    "* Are there any data points considered outliers for more than one feature based on the definition above? \n",
    "* Should these data points be removed from the dataset? \n",
    "* If any data points were added to the `outliers` list to be removed, explain why.\n",
    "\n",
    "** Hint: ** If you have datapoints that are outliers in multiple categories think about why that may be and if they warrant removal. Also note how k-means is affected by outliers and whether or not this plays a factor in your analysis of whether or not to remove them."
   ]
  },
  {
   "cell_type": "markdown",
   "metadata": {},
   "source": [
    "**Answer:**\n",
    "\n",
    "Are there any data points considered outliers for more than one feature based on the definition above?\n",
    "\n",
    "THESE POINTS ARE CONSIDERED OUTLIERS FOR MORE THAN ONE FEATURE. I MANUALLY FOUND THEM: 65, 66, 75, 128, 154.\n",
    "\n",
    "There are many data points that are outliers in more than one category. The easiest type of these outliers to see are spotted when comparing Fresh to other features.\n",
    "\n",
    "Should these data points be removed from the dataset?\n",
    "\n",
    "Only outliers that significantly deviate from the mean values should be removed; however, inclusion of some minor outliers may be helpful in certain cases as they may suggest some sort of underlying pattern.\n",
    "\n",
    "If any data points were added to the outliers list to be removed, explain why.\n",
    "\n",
    "Any values of Fresh that are less than 5 shoud probably be removed as they seem to drag down the data set alot; however, there are MANY of Fresh related outliers, so it probably suggests some sort of pattern. Likewise, for the other features there should be a minimum value that the feature should have if the outlier is to be included. If an outlier is kept in, it could possibly affect the clusters by shifting them around slightly. Outliers will drag the cluster centers towards them, possibly causing the ML algorithm to misclassify the border points.\n",
    "\n",
    "THE VERY PRESENCE OF OUTLIERS DESTURBS THE FRAGILE NATURE OF THE MEAN."
   ]
  },
  {
   "cell_type": "markdown",
   "metadata": {},
   "source": [
    "## Feature Transformation\n",
    "In this section you will use principal component analysis (PCA) to draw conclusions about the underlying structure of the wholesale customer data. Since using PCA on a dataset calculates the dimensions which best maximize variance, we will find which compound combinations of features best describe customers."
   ]
  },
  {
   "cell_type": "markdown",
   "metadata": {},
   "source": [
    "### Implementation: PCA\n",
    "\n",
    "Now that the data has been scaled to a more normal distribution and has had any necessary outliers removed, we can now apply PCA to the `good_data` to discover which dimensions about the data best maximize the variance of features involved. In addition to finding these dimensions, PCA will also report the *explained variance ratio* of each dimension — how much variance within the data is explained by that dimension alone. Note that a component (dimension) from PCA can be considered a new \"feature\" of the space, however it is a composition of the original features present in the data.\n",
    "\n",
    "In the code block below, you will need to implement the following:\n",
    " - Import `sklearn.decomposition.PCA` and assign the results of fitting PCA in six dimensions with `good_data` to `pca`.\n",
    " - Apply a PCA transformation of `log_samples` using `pca.transform`, and assign the results to `pca_samples`."
   ]
  },
  {
   "cell_type": "code",
   "execution_count": 13,
   "metadata": {},
   "outputs": [
    {
     "name": "stdout",
     "output_type": "stream",
     "text": [
      "Dimension 1    0.4430\n",
      "Dimension 2    0.7068\n",
      "Dimension 3    0.8299\n",
      "Dimension 4    0.9311\n",
      "Dimension 5    0.9796\n",
      "Dimension 6    1.0000\n",
      "Name: Explained Variance, dtype: float64\n"
     ]
    },
    {
     "data": {
      "image/png": "[encoded data removed]",
      "text/plain": [
       "<Figure size 1008x576 with 1 Axes>"
      ]
     },
     "metadata": {
      "needs_background": "light"
     },
     "output_type": "display_data"
    }
   ],
   "source": [
    "from sklearn.decomposition import PCA\n",
    "\n",
    "# TODO: Apply PCA by fitting the good data with the same number of dimensions as features\n",
    "pca = PCA(n_components = 6)\n",
    "pca.fit(good_data)\n",
    "\n",
    "# TODO: Transform log_samples using the PCA fit above\n",
    "pca_samples = pca.transform(log_samples)\n",
    "\n",
    "# Generate PCA results plot\n",
    "pca_results = vs.pca_results(good_data, pca)\n",
    "\n",
    "print (pca_results['Explained Variance'].cumsum())"
   ]
  },
  {
   "cell_type": "markdown",
   "metadata": {},
   "source": [
    "### Question 5\n",
    "\n",
    "* How much variance in the data is explained* **in total** *by the first and second principal component? \n",
    "* How much variance in the data is explained by the first four principal components? \n",
    "* Using the visualization provided above, talk about each dimension and the cumulative variance explained by each, stressing upon which features are well represented by each dimension(both in terms of positive and negative variance explained). Discuss what the first four dimensions best represent in terms of customer spending.\n",
    "\n",
    "**Hint:** A positive increase in a specific dimension corresponds with an *increase* of the *positive-weighted* features and a *decrease* of the *negative-weighted* features. The rate of increase or decrease is based on the individual feature weights."
   ]
  },
  {
   "cell_type": "markdown",
   "metadata": {},
   "source": [
    "**Answer:**\n",
    "\n",
    "How much variance in the data is explained* **in total** *by the first and second principal component? \n",
    "\n",
    "First: 44.2 %\n",
    "Second: 27.7 %\n",
    "Total: 71.9 %\n",
    "\n",
    "How much variance in the data is explained by the first four principal components? \n",
    "\n",
    "First: 44.2 %\n",
    "Second: 27.7 %\n",
    "Third: 11.6 %\n",
    "Fourth: 9.62 %\n",
    "Total: 93.11 %\n",
    "\n",
    "Using the visualization provided above, talk about each dimension and the cumulative variance explained by each, stressing upon which features are well represented by each dimension(both in terms of positive and negative variance explained). Discuss what the first four dimensions best represent in terms of customer spending.\n",
    "\n",
    "As it progresses from dimension 1 to dimension 6, it seems that the variance within customer spending can be explained less and less. Each dimension however, seems to be good at predicting a certain pattern present within a customer group's spending.\n",
    "\n",
    "Dimension 1: This component seems to suggest a relationship between Detergents_Paper, Grocery and Milk. This component probably can represent customers who do retail or household shopping.\n",
    "\n",
    "Dimension 2: This component seems to suggest a strong relationship between Fresh, Frozen and Delicatessen; in other words, customers who purchase a lot of Fresh are also likely to purchase a lot of Fresh, Frozen or Delicatessen. This component could possibly represent a some sort of restaurant.\n",
    "\n",
    "Dimension 3: This component seems to suggest a strong relationship between Frozen, Delicatessen and Fresh. Inversely to dimension two, this component may suggest that customers who purchase a lot of Frozen and Deli. are unlikely to purchase as much Fresh products. This component may represent some sort of butchers shop.\n",
    "\n",
    "Dimension 4: This component suggests a relationship between Delicatessen and Fresh and Frozen. However, it seems to suggest that people who purchase a lot of Fresh and Delicatessen do not purchase as much Frozen. This could possibly represent a fast foods store or something like that. \n",
    "\n"
   ]
  },
  {
   "cell_type": "markdown",
   "metadata": {},
   "source": [
    "### Observation\n",
    "Run the code below to see how the log-transformed sample data has changed after having a PCA transformation applied to it in six dimensions. Observe the numerical value for the first four dimensions of the sample points. Consider if this is consistent with your initial interpretation of the sample points."
   ]
  },
  {
   "cell_type": "code",
   "execution_count": 12,
   "metadata": {},
   "outputs": [
    {
     "data": {
      "text/html": [
       "<div>\n",
       "<style scoped>\n",
       "    .dataframe tbody tr th:only-of-type {\n",
       "        vertical-align: middle;\n",
       "    }\n",
       "\n",
       "    .dataframe tbody tr th {\n",
       "        vertical-align: top;\n",
       "    }\n",
       "\n",
       "    .dataframe thead th {\n",
       "        text-align: right;\n",
       "    }\n",
       "</style>\n",
       "<table border=\"1\" class=\"dataframe\">\n",
       "  <thead>\n",
       "    <tr style=\"text-align: right;\">\n",
       "      <th></th>\n",
       "      <th>Dimension 1</th>\n",
       "      <th>Dimension 2</th>\n",
       "      <th>Dimension 3</th>\n",
       "      <th>Dimension 4</th>\n",
       "      <th>Dimension 5</th>\n",
       "      <th>Dimension 6</th>\n",
       "    </tr>\n",
       "  </thead>\n",
       "  <tbody>\n",
       "    <tr>\n",
       "      <th>0</th>\n",
       "      <td>0.8886</td>\n",
       "      <td>-2.4705</td>\n",
       "      <td>0.6833</td>\n",
       "      <td>0.6130</td>\n",
       "      <td>0.4175</td>\n",
       "      <td>-0.5994</td>\n",
       "    </tr>\n",
       "    <tr>\n",
       "      <th>1</th>\n",
       "      <td>-1.8937</td>\n",
       "      <td>-1.6766</td>\n",
       "      <td>1.3189</td>\n",
       "      <td>-0.4852</td>\n",
       "      <td>-0.3736</td>\n",
       "      <td>0.3284</td>\n",
       "    </tr>\n",
       "    <tr>\n",
       "      <th>2</th>\n",
       "      <td>1.0677</td>\n",
       "      <td>1.1023</td>\n",
       "      <td>-1.3772</td>\n",
       "      <td>0.1451</td>\n",
       "      <td>-0.0484</td>\n",
       "      <td>0.9235</td>\n",
       "    </tr>\n",
       "  </tbody>\n",
       "</table>\n",
       "</div>"
      ],
      "text/plain": [
       "   Dimension 1  Dimension 2  Dimension 3  Dimension 4  Dimension 5  \\\n",
       "0       0.8886      -2.4705       0.6833       0.6130       0.4175   \n",
       "1      -1.8937      -1.6766       1.3189      -0.4852      -0.3736   \n",
       "2       1.0677       1.1023      -1.3772       0.1451      -0.0484   \n",
       "\n",
       "   Dimension 6  \n",
       "0      -0.5994  \n",
       "1       0.3284  \n",
       "2       0.9235  "
      ]
     },
     "metadata": {},
     "output_type": "display_data"
    }
   ],
   "source": [
    "# Display sample log-data after having a PCA transformation applied\n",
    "display(pd.DataFrame(np.round(pca_samples, 4), columns = pca_results.index.values))"
   ]
  },
  {
   "cell_type": "markdown",
   "metadata": {},
   "source": [
    "### Implementation: Dimensionality Reduction\n",
    "When using principal component analysis, one of the main goals is to reduce the dimensionality of the data — in effect, reducing the complexity of the problem. Dimensionality reduction comes at a cost: Fewer dimensions used implies less of the total variance in the data is being explained. Because of this, the *cumulative explained variance ratio* is extremely important for knowing how many dimensions are necessary for the problem. Additionally, if a signifiant amount of variance is explained by only two or three dimensions, the reduced data can be visualized afterwards.\n",
    "\n",
    "In the code block below, you will need to implement the following:\n",
    " - Assign the results of fitting PCA in two dimensions with `good_data` to `pca`.\n",
    " - Apply a PCA transformation of `good_data` using `pca.transform`, and assign the results to `reduced_data`.\n",
    " - Apply a PCA transformation of `log_samples` using `pca.transform`, and assign the results to `pca_samples`."
   ]
  },
  {
   "cell_type": "code",
   "execution_count": 17,
   "metadata": {},
   "outputs": [],
   "source": [
    "# TODO: Apply PCA by fitting the good data with only two dimensions\n",
    "pca = PCA(n_components = 2)\n",
    "pca.fit(good_data)\n",
    "\n",
    "# TODO: Transform the good data using the PCA fit above\n",
    "reduced_data = pca.transform(good_data)\n",
    "\n",
    "# TODO: Transform log_samples using the PCA fit above\n",
    "pca_samples = pca.transform(log_samples)\n",
    "\n",
    "# Create a DataFrame for the reduced data\n",
    "reduced_data = pd.DataFrame(reduced_data, columns = ['Dimension 1', 'Dimension 2'])"
   ]
  },
  {
   "cell_type": "markdown",
   "metadata": {},
   "source": [
    "### Observation\n",
    "Run the code below to see how the log-transformed sample data has changed after having a PCA transformation applied to it using only two dimensions. Observe how the values for the first two dimensions remains unchanged when compared to a PCA transformation in six dimensions."
   ]
  },
  {
   "cell_type": "code",
   "execution_count": 18,
   "metadata": {},
   "outputs": [
    {
     "data": {
      "text/html": [
       "<div>\n",
       "<style scoped>\n",
       "    .dataframe tbody tr th:only-of-type {\n",
       "        vertical-align: middle;\n",
       "    }\n",
       "\n",
       "    .dataframe tbody tr th {\n",
       "        vertical-align: top;\n",
       "    }\n",
       "\n",
       "    .dataframe thead th {\n",
       "        text-align: right;\n",
       "    }\n",
       "</style>\n",
       "<table border=\"1\" class=\"dataframe\">\n",
       "  <thead>\n",
       "    <tr style=\"text-align: right;\">\n",
       "      <th></th>\n",
       "      <th>Dimension 1</th>\n",
       "      <th>Dimension 2</th>\n",
       "    </tr>\n",
       "  </thead>\n",
       "  <tbody>\n",
       "    <tr>\n",
       "      <th>0</th>\n",
       "      <td>0.9197</td>\n",
       "      <td>-2.4257</td>\n",
       "    </tr>\n",
       "    <tr>\n",
       "      <th>1</th>\n",
       "      <td>-1.8834</td>\n",
       "      <td>-1.5991</td>\n",
       "    </tr>\n",
       "    <tr>\n",
       "      <th>2</th>\n",
       "      <td>1.0603</td>\n",
       "      <td>1.1407</td>\n",
       "    </tr>\n",
       "  </tbody>\n",
       "</table>\n",
       "</div>"
      ],
      "text/plain": [
       "   Dimension 1  Dimension 2\n",
       "0       0.9197      -2.4257\n",
       "1      -1.8834      -1.5991\n",
       "2       1.0603       1.1407"
      ]
     },
     "metadata": {},
     "output_type": "display_data"
    }
   ],
   "source": [
    "# Display sample log-data after applying PCA transformation in two dimensions\n",
    "display(pd.DataFrame(np.round(pca_samples, 4), columns = ['Dimension 1', 'Dimension 2']))"
   ]
  },
  {
   "cell_type": "markdown",
   "metadata": {},
   "source": [
    "## Visualizing a Biplot\n",
    "A biplot is a scatterplot where each data point is represented by its scores along the principal components. The axes are the principal components (in this case `Dimension 1` and `Dimension 2`). In addition, the biplot shows the projection of the original features along the components. A biplot can help us interpret the reduced dimensions of the data, and discover relationships between the principal components and original features.\n",
    "\n",
    "Run the code cell below to produce a biplot of the reduced-dimension data."
   ]
  },
  {
   "cell_type": "code",
   "execution_count": 19,
   "metadata": {},
   "outputs": [
    {
     "data": {
      "text/plain": [
       "<matplotlib.axes._subplots.AxesSubplot at 0x1185a3518>"
      ]
     },
     "execution_count": 19,
     "metadata": {},
     "output_type": "execute_result"
    },
    {
     "data": {
      "image/png": "[encoded data removed]",
      "text/plain": [
       "<Figure size 1008x576 with 1 Axes>"
      ]
     },
     "metadata": {
      "needs_background": "light"
     },
     "output_type": "display_data"
    }
   ],
   "source": [
    "# Create a biplot\n",
    "vs.biplot(good_data, reduced_data, pca)"
   ]
  },
  {
   "cell_type": "markdown",
   "metadata": {},
   "source": [
    "### Observation\n",
    "\n",
    "Once we have the original feature projections (in red), it is easier to interpret the relative position of each data point in the scatterplot. For instance, a point the lower right corner of the figure will likely correspond to a customer that spends a lot on `'Milk'`, `'Grocery'` and `'Detergents_Paper'`, but not so much on the other product categories. \n",
    "\n",
    "From the biplot, which of the original features are most strongly correlated with the first component? What about those that are associated with the second component? Do these observations agree with the pca_results plot you obtained earlier?\n",
    "\n",
    "Detergents_Paper, Milk and Grocery seem to correlate to Dimension 1 while Delicatessen, Frozen and Fresh seem to correlate to Dimension 2.\n",
    "\n",
    "Sort of."
   ]
  },
  {
   "cell_type": "markdown",
   "metadata": {},
   "source": [
    "## Clustering\n",
    "\n",
    "In this section, you will choose to use either a K-Means clustering algorithm or a Gaussian Mixture Model clustering algorithm to identify the various customer segments hidden in the data. You will then recover specific data points from the clusters to understand their significance by transforming them back into their original dimension and scale. "
   ]
  },
  {
   "cell_type": "markdown",
   "metadata": {},
   "source": [
    "### Question 6\n",
    "\n",
    "* What are the advantages to using a K-Means clustering algorithm? \n",
    "* What are the advantages to using a Gaussian Mixture Model clustering algorithm? \n",
    "* Given your observations about the wholesale customer data so far, which of the two algorithms will you use and why?\n",
    "\n",
    "** Hint: ** Think about the differences between hard clustering and soft clustering and which would be appropriate for our dataset."
   ]
  },
  {
   "cell_type": "markdown",
   "metadata": {},
   "source": [
    "**Answer:**\n",
    "\n",
    "* What are the advantages to using a K-Means clustering algorithm? \n",
    "    K-Means runs very fast and is very good at visualizing and simplifying multi-dimensional data. It works really well with big datasets and can find and lock on to tight clusters really well.\n",
    "* What are the advantages to using a Gaussian Mixture Model clustering algorithm? \n",
    "    Gaussian Mixture Models can create noncircular clusters and can work with non-linear data. GMM's don't really assign a point to a definite cluster, instead it assigns probabilities of how likely a point belongs to one cluster. It can also model really complex shapes.\n",
    " \n",
    "* Given your observations about the wholesale customer data so far, which of the two algorithms will you use and why?\n",
    "    Gaussian Mixture. The sporradic nature of the data probabably may require a more complex clustering algorithm. The hardest choices require the strongest wills. \n",
    "   \n",
    "HARD VS SOFT CLUSTERING:\n",
    "\n",
    "K-Means is a hard clustering algorithm meaning that it gives a points a DEFINITE cluster to belong to.\n",
    "\n",
    "GMM is a soft clustering algorithm because of the fact that points don't belong to a definite cluster. They can even semi belong to two clusters at once.\n",
    "\n",
    "GMM might be better to reflect our data in this instance as our data may be quite close together and in those cases K-Means will have trouble classifying the data set due to the uniform spread of the data. Although K-Means will probably classify this dataset very fast, the manner that the data is spread makes it very hard for K-Means to classify it accurately. GMM and the probability classifier will probably make allow it to classify this dataset more accurately."
   ]
  },
  {
   "cell_type": "markdown",
   "metadata": {},
   "source": [
    "### Implementation: Creating Clusters\n",
    "Depending on the problem, the number of clusters that you expect to be in the data may already be known. When the number of clusters is not known *a priori*, there is no guarantee that a given number of clusters best segments the data, since it is unclear what structure exists in the data — if any. However, we can quantify the \"goodness\" of a clustering by calculating each data point's *silhouette coefficient*. The [silhouette coefficient](http://scikit-learn.org/stable/modules/generated/sklearn.metrics.silhouette_score.html) for a data point measures how similar it is to its assigned cluster from -1 (dissimilar) to 1 (similar). Calculating the *mean* silhouette coefficient provides for a simple scoring method of a given clustering.\n",
    "\n",
    "In the code block below, you will need to implement the following:\n",
    " - Fit a clustering algorithm to the `reduced_data` and assign it to `clusterer`.\n",
    " - Predict the cluster for each data point in `reduced_data` using `clusterer.predict` and assign them to `preds`.\n",
    " - Find the cluster centers using the algorithm's respective attribute and assign them to `centers`.\n",
    " - Predict the cluster for each sample data point in `pca_samples` and assign them `sample_preds`.\n",
    " - Import `sklearn.metrics.silhouette_score` and calculate the silhouette score of `reduced_data` against `preds`.\n",
    "   - Assign the silhouette score to `score` and print the result."
   ]
  },
  {
   "cell_type": "code",
   "execution_count": 20,
   "metadata": {},
   "outputs": [
    {
     "name": "stdout",
     "output_type": "stream",
     "text": [
      "0.42191684646261496\n"
     ]
    }
   ],
   "source": [
    "from sklearn.mixture import GaussianMixture\n",
    "from sklearn.metrics import silhouette_score\n",
    "\n",
    "# TODO: Apply your clustering algorithm of choice to the reduced data \n",
    "clusterer = GaussianMixture(n_components = 2)\n",
    "clusterer.fit(reduced_data)\n",
    "\n",
    "# TODO: Predict the cluster for each data point\n",
    "preds = clusterer.predict(reduced_data)\n",
    "\n",
    "# TODO: Find the cluster centers\n",
    "centers = clusterer.means_\n",
    "\n",
    "# TODO: Predict the cluster for each transformed sample data point\n",
    "sample_preds = clusterer.predict(pca_samples)\n",
    "\n",
    "# TODO: Calculate the mean silhouette coefficient for the number of clusters chosen\n",
    "score = silhouette_score(reduced_data, preds)\n",
    "print(score)"
   ]
  },
  {
   "cell_type": "markdown",
   "metadata": {},
   "source": [
    "### Question 7\n",
    "\n",
    "* Report the silhouette score for several cluster numbers you tried. \n",
    "* Of these, which number of clusters has the best silhouette score?"
   ]
  },
  {
   "cell_type": "markdown",
   "metadata": {},
   "source": [
    "**Answer:**\n",
    "\n",
    "* Report the silhouette score for several cluster numbers you tried. \n",
    "2: 0.4099683245278785\n",
    "3: 0.23304274396523894\n",
    "4: 0.3077508654632924\n",
    "5: 0.2851125187795839\n",
    "6: 0.2892174504910716\n",
    "7: 0.32216320282278177\n",
    "8: 0.31595468780679514\n",
    "9: 0.3138898226009191\n",
    "10: 0.29471068415938956\n",
    "\n",
    "* Of these, which number of clusters has the best silhouette score?\n",
    "2 Clusters"
   ]
  },
  {
   "cell_type": "markdown",
   "metadata": {},
   "source": [
    "### Cluster Visualization\n",
    "Once you've chosen the optimal number of clusters for your clustering algorithm using the scoring metric above, you can now visualize the results by executing the code block below. Note that, for experimentation purposes, you are welcome to adjust the number of clusters for your clustering algorithm to see various visualizations. The final visualization provided should, however, correspond with the optimal number of clusters. "
   ]
  },
  {
   "cell_type": "code",
   "execution_count": 21,
   "metadata": {},
   "outputs": [
    {
     "data": {
      "image/png": "[encoded data removed]",
      "text/plain": [
       "<Figure size 1008x576 with 1 Axes>"
      ]
     },
     "metadata": {
      "needs_background": "light"
     },
     "output_type": "display_data"
    }
   ],
   "source": [
    "# Display the results of the clustering from implementation\n",
    "vs.cluster_results(reduced_data, preds, centers, pca_samples)"
   ]
  },
  {
   "cell_type": "markdown",
   "metadata": {},
   "source": [
    "### Implementation: Data Recovery\n",
    "Each cluster present in the visualization above has a central point. These centers (or means) are not specifically data points from the data, but rather the *averages* of all the data points predicted in the respective clusters. For the problem of creating customer segments, a cluster's center point corresponds to *the average customer of that segment*. Since the data is currently reduced in dimension and scaled by a logarithm, we can recover the representative customer spending from these data points by applying the inverse transformations.\n",
    "\n",
    "In the code block below, you will need to implement the following:\n",
    " - Apply the inverse transform to `centers` using `pca.inverse_transform` and assign the new centers to `log_centers`.\n",
    " - Apply the inverse function of `np.log` to `log_centers` using `np.exp` and assign the true centers to `true_centers`.\n"
   ]
  },
  {
   "cell_type": "code",
   "execution_count": 28,
   "metadata": {},
   "outputs": [
    {
     "data": {
      "text/html": [
       "<div>\n",
       "<style scoped>\n",
       "    .dataframe tbody tr th:only-of-type {\n",
       "        vertical-align: middle;\n",
       "    }\n",
       "\n",
       "    .dataframe tbody tr th {\n",
       "        vertical-align: top;\n",
       "    }\n",
       "\n",
       "    .dataframe thead th {\n",
       "        text-align: right;\n",
       "    }\n",
       "</style>\n",
       "<table border=\"1\" class=\"dataframe\">\n",
       "  <thead>\n",
       "    <tr style=\"text-align: right;\">\n",
       "      <th></th>\n",
       "      <th>Fresh</th>\n",
       "      <th>Milk</th>\n",
       "      <th>Grocery</th>\n",
       "      <th>Frozen</th>\n",
       "      <th>Detergents_Paper</th>\n",
       "      <th>Delicatessen</th>\n",
       "    </tr>\n",
       "  </thead>\n",
       "  <tbody>\n",
       "    <tr>\n",
       "      <th>Segment 0</th>\n",
       "      <td>8953.0</td>\n",
       "      <td>2114.0</td>\n",
       "      <td>2765.0</td>\n",
       "      <td>2075.0</td>\n",
       "      <td>353.0</td>\n",
       "      <td>732.0</td>\n",
       "    </tr>\n",
       "    <tr>\n",
       "      <th>Segment 1</th>\n",
       "      <td>3552.0</td>\n",
       "      <td>7837.0</td>\n",
       "      <td>12219.0</td>\n",
       "      <td>870.0</td>\n",
       "      <td>4696.0</td>\n",
       "      <td>962.0</td>\n",
       "    </tr>\n",
       "  </tbody>\n",
       "</table>\n",
       "</div>"
      ],
      "text/plain": [
       "            Fresh    Milk  Grocery  Frozen  Detergents_Paper  Delicatessen\n",
       "Segment 0  8953.0  2114.0   2765.0  2075.0             353.0         732.0\n",
       "Segment 1  3552.0  7837.0  12219.0   870.0            4696.0         962.0"
      ]
     },
     "metadata": {},
     "output_type": "display_data"
    },
    {
     "data": {
      "text/plain": [
       "Fresh               8504.0\n",
       "Milk                3627.0\n",
       "Grocery             4755.5\n",
       "Frozen              1526.0\n",
       "Detergents_Paper     816.5\n",
       "Delicatessen         965.5\n",
       "dtype: float64"
      ]
     },
     "metadata": {},
     "output_type": "display_data"
    }
   ],
   "source": [
    "# TODO: Inverse transform the centers\n",
    "log_centers = pca.inverse_transform(centers)\n",
    "\n",
    "# TODO: Exponentiate the centers\n",
    "true_centers = np.exp(log_centers)\n",
    "\n",
    "# Display the true centers\n",
    "segments = ['Segment {}'.format(i) for i in range(0,len(centers))]\n",
    "true_centers = pd.DataFrame(np.round(true_centers), columns = data.keys())\n",
    "true_centers.index = segments\n",
    "display(true_centers)\n",
    "\n",
    "display(data.median())"
   ]
  },
  {
   "cell_type": "markdown",
   "metadata": {},
   "source": [
    "### Question 8\n",
    "\n",
    "* Consider the total purchase cost of each product category for the representative data points above, and reference the statistical description of the dataset at the beginning of this project(specifically looking at the mean values for the various feature points). What set of establishments could each of the customer segments represent?\n",
    "\n",
    "**Hint:** A customer who is assigned to `'Cluster X'` should best identify with the establishments represented by the feature set of `'Segment X'`. Think about what each segment represents in terms their values for the feature points chosen. Reference these values with the mean values to get some perspective into what kind of establishment they represent."
   ]
  },
  {
   "cell_type": "markdown",
   "metadata": {},
   "source": [
    "**Answer:**\n",
    "\n",
    "Cluster 0: Characterized by the abundance of Fresh, Frozen, Grocery, and Milk these people are probably restaurant people who sell fresh food and other frozen goods. The values present in Segment 0 seem to suggest that these people do indeed buy more of these products than others; however, it is clear that all of these values are less than the Mean Values of Data. Based on the comparisons between the median of the data; however, these values seem to be mostly on par for Milk and Grocery, but they are exceed for Fresh and Frozen.\n",
    "\n",
    "Cluster 1: Generalized by the favoring of Fresh, Milk, Grocery and Detergents_Paper, these shoppers probably buy from supermarkets. Unlike the status of Segment 0, Segment 1's Milk and Groceries value exceeds means values, meaning that it probably some kind of grocery store as it is buying more of these values than the average.\n",
    "\n",
    "\n",
    "MEAN VALUES:\n",
    "\n",
    "Fresh: 12000.2977\n",
    "Milk: 5796.2\n",
    "Grocery: 7951.3\n",
    "Detergents_paper: 2881.4\n",
    "Delicatessen: 1524.8"
   ]
  },
  {
   "cell_type": "markdown",
   "metadata": {},
   "source": [
    "### Question 9\n",
    "\n",
    "* For each sample point, which customer segment from* **Question 8** *best represents it? \n",
    "* Are the predictions for each sample point consistent with this?*\n",
    "\n",
    "Run the code block below to find which cluster each sample point is predicted to be."
   ]
  },
  {
   "cell_type": "code",
   "execution_count": 32,
   "metadata": {},
   "outputs": [
    {
     "name": "stdout",
     "output_type": "stream",
     "text": [
      "Sample point 0 predicted to be in Cluster 0\n",
      "Sample point 1 predicted to be in Cluster 1\n",
      "Sample point 2 predicted to be in Cluster 0\n"
     ]
    }
   ],
   "source": [
    "# Display the predictions\n",
    "for i, pred in enumerate(sample_preds):\n",
    "    print(\"Sample point\", i, \"predicted to be in Cluster\", pred)"
   ]
  },
  {
   "cell_type": "markdown",
   "metadata": {},
   "source": [
    "**Answer:**\n",
    "\n",
    "* For each sample point, which customer segment from* **Question 8** *best represents it? \n",
    "\n",
    "0 (0): Massive spending on Frozen + Fresh. Probably buying supplies for a food endeavor of some sorts.\n",
    "1 (1): Focus on everything but Frozen + Fresh. Probably buying groceries and whatnot.\n",
    "2 (0): Values in Frozen and Fresh are higher than anything else.\n",
    "\n",
    "* Are the predictions for each sample point consistent with this\n",
    "\n",
    "The model is suprisingly consistent among the sample points; however, that may be due to luck."
   ]
  },
  {
   "cell_type": "markdown",
   "metadata": {},
   "source": [
    "## Conclusion"
   ]
  },
  {
   "cell_type": "markdown",
   "metadata": {},
   "source": [
    "In this final section, you will investigate ways that you can make use of the clustered data. First, you will consider how the different groups of customers, the ***customer segments***, may be affected differently by a specific delivery scheme. Next, you will consider how giving a label to each customer (which *segment* that customer belongs to) can provide for additional features about the customer data. Finally, you will compare the ***customer segments*** to a hidden variable present in the data, to see whether the clustering identified certain relationships."
   ]
  },
  {
   "cell_type": "markdown",
   "metadata": {
    "collapsed": true
   },
   "source": [
    "### Question 10\n",
    "Companies will often run [A/B tests](https://en.wikipedia.org/wiki/A/B_testing) when making small changes to their products or services to determine whether making that change will affect its customers positively or negatively. The wholesale distributor is considering changing its delivery service from currently 5 days a week to 3 days a week. However, the distributor will only make this change in delivery service for customers that react positively. \n",
    "\n",
    "* How can the wholesale distributor use the customer segments to determine which customers, if any, would react positively to the change in delivery service?*\n",
    "\n",
    "**Hint:** Can we assume the change affects all customers equally? How can we determine which group of customers it affects the most?"
   ]
  },
  {
   "cell_type": "markdown",
   "metadata": {},
   "source": [
    "**Answer:**\n",
    "\n",
    "How can the wholesale distributor use the customer segments to determine which customers, if any, would react positively to the change in delivery service?*\n",
    "\n",
    "We cannot assume that this change will affect all customers equally. However, it will probably affect those in Cluster 0 the most due to the purchasing of a lot of fresh food. This program and the clusters generated can be used to generalize possible trends based on the shopping patterns of the customers.\n",
    "\n",
    "To perform an A/B test, you can first start take note of customers responses for a week of the delivery service open 5, then reduce the delivery service to three days a week and take note of customer reaction and responses. If the A/B test results reveal that the customers reacted positively to the week change (tally complaints or use general observation or ask them to complete a survey during the two weeks) then make those changes. When performing A/B testing, it might be useful to segment the customers into different retailing applications as people who do household shopping will be affected differently from people who are running a retail business.\n",
    "\n",
    "Additionally, extra data could be collected and used to test the accuracy of the ML Algorithm"
   ]
  },
  {
   "cell_type": "markdown",
   "metadata": {},
   "source": [
    "### Question 11\n",
    "Additional structure is derived from originally unlabeled data when using clustering techniques. Since each customer has a ***customer segment*** it best identifies with (depending on the clustering algorithm applied), we can consider *'customer segment'* as an **engineered feature** for the data. Assume the wholesale distributor recently acquired ten new customers and each provided estimates for anticipated annual spending of each product category. Knowing these estimates, the wholesale distributor wants to classify each new customer to a ***customer segment*** to determine the most appropriate delivery service.  \n",
    "* How can the wholesale distributor label the new customers using only their estimated product spending and the **customer segment** data?\n",
    "\n",
    "**Hint:** A supervised learner could be used to train on the original customers. What would be the target variable?"
   ]
  },
  {
   "cell_type": "markdown",
   "metadata": {},
   "source": [
    "**Answer:**\n",
    "\n",
    "How can the wholesale distributor label the new customers using only their estimated product spending and the customer segment data?\n",
    "\n",
    "A supervised learner can be trained based on the original customers. It's input variables would be the predicted annual spending while its target variable will be the customer segment that this new customer belongs to. We can determine the customer segment by using GMM or some other algorithm of some sorts to act as a beginning classifier to turn our data into 'labeled' data."
   ]
  },
  {
   "cell_type": "markdown",
   "metadata": {},
   "source": [
    "### Visualizing Underlying Distributions\n",
    "\n",
    "At the beginning of this project, it was discussed that the `'Channel'` and `'Region'` features would be excluded from the dataset so that the customer product categories were emphasized in the analysis. By reintroducing the `'Channel'` feature to the dataset, an interesting structure emerges when considering the same PCA dimensionality reduction applied earlier to the original dataset.\n",
    "\n",
    "Run the code block below to see how each data point is labeled either `'HoReCa'` (Hotel/Restaurant/Cafe) or `'Retail'` the reduced space. In addition, you will find the sample points are circled in the plot, which will identify their labeling."
   ]
  },
  {
   "cell_type": "code",
   "execution_count": 33,
   "metadata": {
    "scrolled": false
   },
   "outputs": [
    {
     "data": {
      "image/png": "[encoded data removed]",
      "text/plain": [
       "<Figure size 1008x576 with 1 Axes>"
      ]
     },
     "metadata": {
      "needs_background": "light"
     },
     "output_type": "display_data"
    }
   ],
   "source": [
    "# Display the clustering results based on 'Channel' data\n",
    "vs.channel_results(reduced_data, outliers, pca_samples)"
   ]
  },
  {
   "cell_type": "markdown",
   "metadata": {},
   "source": [
    "### Question 12\n",
    "\n",
    "* How well does the clustering algorithm and number of clusters you've chosen compare to this underlying distribution of Hotel/Restaurant/Cafe customers to Retailer customers? \n",
    "* Are there customer segments that would be classified as purely 'Retailers' or 'Hotels/Restaurants/Cafes' by this distribution? \n",
    "* Would you consider these classifications as consistent with your previous definition of the customer segments?"
   ]
  },
  {
   "cell_type": "markdown",
   "metadata": {},
   "source": [
    "**Answer:**\n",
    "\n",
    "* How well does the clustering algorithm and number of clusters you've chosen compare to this underlying distribution of Hotel/Restaurant/Cafe customers to Retailer customers? \n",
    "\n",
    "      The clustering algorithm does extermely well in this case. The pattern shown in the initial model remains; however there are some minor outliers here and there.\n",
    "      \n",
    "* Are there customer segments that would be classified as purely 'Retailers' or 'Hotels/Restaurants/Cafes' by this distribution? \n",
    "\n",
    "    According to this distribution, no. There seems to be some outliers of HoReCas that should be in the retailers cluster. Therefore, the model is suggesting that there are some cases where a establishment can function as a half and half.\n",
    "    \n",
    "* Would you consider these classifications as consistent with your previous definition of the customer segments?\n",
    "\n",
    "    These classifications are quite consistent with my previous definition of customer segments."
   ]
  },
  {
   "cell_type": "markdown",
   "metadata": {},
   "source": [
    "> **Note**: Once you have completed all of the code implementations and successfully answered each question above, you may finalize your work by exporting the iPython Notebook as an HTML document. You can do this by using the menu above and navigating to  \n",
    "**File -> Download as -> HTML (.html)**. Include the finished document along with this notebook as your submission."
   ]
  }
 ],
 "metadata": {
  "kernelspec": {
   "display_name": "Python 3",
   "language": "python",
   "name": "python3"
  },
  "language_info": {
   "codemirror_mode": {
    "name": "ipython",
    "version": 3
   },
   "file_extension": ".py",
   "mimetype": "text/x-python",
   "name": "python",
   "nbconvert_exporter": "python",
   "pygments_lexer": "ipython3",
   "version": "3.6.7"
  }
 },
 "nbformat": 4,
 "nbformat_minor": 1
}
